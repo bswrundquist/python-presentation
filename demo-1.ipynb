{
 "cells": [
  {
   "cell_type": "code",
   "execution_count": 27,
   "metadata": {
    "collapsed": false
   },
   "outputs": [],
   "source": [
    "# https://www.dataquest.io/blog/jupyter-notebook-tips-tricks-shortcuts/\n",
    "import numpy as np\n",
    "import pandas as pd\n",
    "import plotly"
   ]
  },
  {
   "cell_type": "code",
   "execution_count": 28,
   "metadata": {
    "collapsed": false
   },
   "outputs": [
    {
     "name": "stdout",
     "output_type": "stream",
     "text": [
      "vector \n",
      "[ 0  1  2  3  4  5  6  7  8  9 10 11 12 13 14]\n",
      "vector reshaped to matrix \n",
      "[[ 0  1  2  3  4]\n",
      " [ 5  6  7  8  9]\n",
      " [10 11 12 13 14]]\n"
     ]
    }
   ],
   "source": [
    "vector = np.arange(15)\n",
    "matrix = vector.reshape(3, 5)\n",
    "print \"vector \\n\", vector\n",
    "print \"vector reshaped to matrix \\n\", matrix"
   ]
  },
  {
   "cell_type": "code",
   "execution_count": 29,
   "metadata": {
    "collapsed": false
   },
   "outputs": [
    {
     "name": "stdout",
     "output_type": "stream",
     "text": [
      "vector shape = (15L,) \n",
      "vector dim = 1 \n",
      "vector type = int32\n",
      "matrix shape = (3L, 5L) \n",
      "matrix dim = 2 \n",
      "matrix type = int32\n"
     ]
    }
   ],
   "source": [
    "print \"vector shape =\", vector.shape, \"\\nvector dim =\", vector.ndim, \"\\nvector type =\", vector.dtype.name\n",
    "print \"matrix shape =\", matrix.shape, \"\\nmatrix dim =\", matrix.ndim, \"\\nmatrix type =\", matrix.dtype.name"
   ]
  },
  {
   "cell_type": "code",
   "execution_count": 30,
   "metadata": {
    "collapsed": false
   },
   "outputs": [
    {
     "name": "stdout",
     "output_type": "stream",
     "text": [
      "vector type = int64\n",
      "vector float = [  0.   1.   2.   3.   4.   5.   6.   7.   8.   9.  10.  11.  12.  13.  14.]\n",
      "vector float type = float64\n"
     ]
    }
   ],
   "source": [
    "print \"vector type =\", vector.astype(np.int64).dtype.name\n",
    "vector_float = vector.astype(np.float64)\n",
    "print \"vector float =\", vector_float\n",
    "print \"vector float type =\", vector_float.dtype.name"
   ]
  },
  {
   "cell_type": "code",
   "execution_count": 31,
   "metadata": {
    "collapsed": false
   },
   "outputs": [
    {
     "name": "stdout",
     "output_type": "stream",
     "text": [
      "x = <type 'int'>\n",
      "x with decimal = <type 'float'>\n"
     ]
    }
   ],
   "source": [
    "x = 1\n",
    "x_decimal = 1.\n",
    "print \"x =\", type(x)\n",
    "print \"x with decimal =\", type(x_decimal)"
   ]
  },
  {
   "cell_type": "code",
   "execution_count": 32,
   "metadata": {
    "collapsed": false
   },
   "outputs": [
    {
     "name": "stdout",
     "output_type": "stream",
     "text": [
      "a\n",
      "[1 2 5]\n",
      "aa\n",
      "[[1 2 5]\n",
      " [2 7 2]]\n",
      "aaa\n",
      "[[  1   2   5]\n",
      " [  2   7   2]\n",
      " [ 99 101  94]]\n"
     ]
    }
   ],
   "source": [
    "a = np.array([1, 2, 5])\n",
    "aa = np.array([a, (2, 7, 2)])\n",
    "aaa = np.array([a, aa[1], (99, 101, 94)])\n",
    "print \"a\\n\", a\n",
    "print \"aa\\n\", aa\n",
    "print \"aaa\\n\", aaa"
   ]
  },
  {
   "cell_type": "code",
   "execution_count": 33,
   "metadata": {
    "collapsed": false
   },
   "outputs": [
    {
     "name": "stdout",
     "output_type": "stream",
     "text": [
      "[[[   1.    2.    5.]\n",
      "  [   2.    7.    2.]\n",
      "  [  99.  101.   94.]]\n",
      "\n",
      " [[   0.    0.    0.]\n",
      "  [   0.    0.    0.]\n",
      "  [   0.    0.    0.]]]\n",
      "(2L, 3L, 3L)\n"
     ]
    }
   ],
   "source": [
    "a_tensor = np.array([aaa, np.zeros([3, 3])])\n",
    "print a_tensor\n",
    "print a_tensor.shape"
   ]
  },
  {
   "cell_type": "code",
   "execution_count": 34,
   "metadata": {
    "collapsed": false
   },
   "outputs": [
    {
     "data": {
      "text/html": [
       "<div>\n",
       "<table border=\"1\" class=\"dataframe\">\n",
       "  <thead>\n",
       "    <tr style=\"text-align: right;\">\n",
       "      <th></th>\n",
       "      <th>0</th>\n",
       "      <th>1</th>\n",
       "      <th>2</th>\n",
       "    </tr>\n",
       "  </thead>\n",
       "  <tbody>\n",
       "    <tr>\n",
       "      <th>0</th>\n",
       "      <td>1</td>\n",
       "      <td>2</td>\n",
       "      <td>5</td>\n",
       "    </tr>\n",
       "    <tr>\n",
       "      <th>1</th>\n",
       "      <td>2</td>\n",
       "      <td>7</td>\n",
       "      <td>2</td>\n",
       "    </tr>\n",
       "    <tr>\n",
       "      <th>2</th>\n",
       "      <td>99</td>\n",
       "      <td>101</td>\n",
       "      <td>94</td>\n",
       "    </tr>\n",
       "  </tbody>\n",
       "</table>\n",
       "</div>"
      ],
      "text/plain": [
       "    0    1   2\n",
       "0   1    2   5\n",
       "1   2    7   2\n",
       "2  99  101  94"
      ]
     },
     "execution_count": 34,
     "metadata": {},
     "output_type": "execute_result"
    }
   ],
   "source": [
    "df_see = pd.DataFrame(aaa)\n",
    "df_see.head()"
   ]
  },
  {
   "cell_type": "code",
   "execution_count": 35,
   "metadata": {
    "collapsed": false
   },
   "outputs": [
    {
     "name": "stdout",
     "output_type": "stream",
     "text": [
      "0   -0.508638\n",
      "1   -0.215574\n",
      "2    0.124159\n",
      "3    2.391401\n",
      "4   -0.334885\n",
      "dtype: float64\n"
     ]
    }
   ],
   "source": [
    "data = pd.Series(np.random.normal(size = 10))\n",
    "print data.head()"
   ]
  },
  {
   "cell_type": "code",
   "execution_count": 36,
   "metadata": {
    "collapsed": false
   },
   "outputs": [
    {
     "name": "stdout",
     "output_type": "stream",
     "text": [
      "mean = 0.483964397676\n",
      "sd = 0.857674327209\n"
     ]
    }
   ],
   "source": [
    "print \"mean =\", data.mean()\n",
    "print \"sd =\", data.std()"
   ]
  },
  {
   "cell_type": "code",
   "execution_count": 37,
   "metadata": {
    "collapsed": false
   },
   "outputs": [],
   "source": [
    "import random\n",
    "import string\n",
    "def random_ids():\n",
    "    ids = string.lowercase+string.digits\n",
    "    ids_out = ''.join(random.sample(ids,10))\n",
    "    return ids_out"
   ]
  },
  {
   "cell_type": "code",
   "execution_count": 38,
   "metadata": {
    "collapsed": false
   },
   "outputs": [
    {
     "data": {
      "text/plain": [
       "array(['yk73wpz80r', 'yk73wpz80r', 'yk73wpz80r', 'yk73wpz80r',\n",
       "       'yk73wpz80r', 'y6rdzb39uf', 'y6rdzb39uf', 'y6rdzb39uf',\n",
       "       'y6rdzb39uf', 'y6rdzb39uf'], \n",
       "      dtype='|S10')"
      ]
     },
     "execution_count": 38,
     "metadata": {},
     "output_type": "execute_result"
    }
   ],
   "source": [
    "id1 = np.repeat(random_ids(), 5)\n",
    "id2 = np.repeat(random_ids(), 5)\n",
    "ids = np.concatenate((id1, id2))\n",
    "ids"
   ]
  },
  {
   "cell_type": "code",
   "execution_count": 39,
   "metadata": {
    "collapsed": false
   },
   "outputs": [
    {
     "name": "stdout",
     "output_type": "stream",
     "text": [
      "DatetimeIndex(['2013-01-01', '2013-01-02', '2013-01-03', '2013-01-04',\n",
      "               '2013-01-05', '2013-01-01', '2013-01-02', '2013-01-03',\n",
      "               '2013-01-04', '2013-01-05'],\n",
      "              dtype='datetime64[ns]', freq=None)\n"
     ]
    }
   ],
   "source": [
    "dates = pd.date_range('20130101', periods=5)\n",
    "dates_twice = dates.append(dates)\n",
    "print dates_twice"
   ]
  },
  {
   "cell_type": "code",
   "execution_count": 40,
   "metadata": {
    "collapsed": false
   },
   "outputs": [
    {
     "data": {
      "text/html": [
       "<div>\n",
       "<table border=\"1\" class=\"dataframe\">\n",
       "  <thead>\n",
       "    <tr style=\"text-align: right;\">\n",
       "      <th></th>\n",
       "      <th>date</th>\n",
       "      <th>id</th>\n",
       "      <th>vals</th>\n",
       "    </tr>\n",
       "  </thead>\n",
       "  <tbody>\n",
       "    <tr>\n",
       "      <th>0</th>\n",
       "      <td>2013-01-01</td>\n",
       "      <td>yk73wpz80r</td>\n",
       "      <td>-0.508638</td>\n",
       "    </tr>\n",
       "    <tr>\n",
       "      <th>1</th>\n",
       "      <td>2013-01-02</td>\n",
       "      <td>yk73wpz80r</td>\n",
       "      <td>-0.215574</td>\n",
       "    </tr>\n",
       "    <tr>\n",
       "      <th>2</th>\n",
       "      <td>2013-01-03</td>\n",
       "      <td>yk73wpz80r</td>\n",
       "      <td>0.124159</td>\n",
       "    </tr>\n",
       "    <tr>\n",
       "      <th>3</th>\n",
       "      <td>2013-01-04</td>\n",
       "      <td>yk73wpz80r</td>\n",
       "      <td>2.391401</td>\n",
       "    </tr>\n",
       "    <tr>\n",
       "      <th>4</th>\n",
       "      <td>2013-01-05</td>\n",
       "      <td>yk73wpz80r</td>\n",
       "      <td>-0.334885</td>\n",
       "    </tr>\n",
       "    <tr>\n",
       "      <th>5</th>\n",
       "      <td>2013-01-01</td>\n",
       "      <td>y6rdzb39uf</td>\n",
       "      <td>0.218966</td>\n",
       "    </tr>\n",
       "  </tbody>\n",
       "</table>\n",
       "</div>"
      ],
      "text/plain": [
       "        date          id      vals\n",
       "0 2013-01-01  yk73wpz80r -0.508638\n",
       "1 2013-01-02  yk73wpz80r -0.215574\n",
       "2 2013-01-03  yk73wpz80r  0.124159\n",
       "3 2013-01-04  yk73wpz80r  2.391401\n",
       "4 2013-01-05  yk73wpz80r -0.334885\n",
       "5 2013-01-01  y6rdzb39uf  0.218966"
      ]
     },
     "execution_count": 40,
     "metadata": {},
     "output_type": "execute_result"
    }
   ],
   "source": [
    "df = pd.DataFrame({'id': ids, 'date': dates_twice,  'vals': data})\n",
    "df.head(6)"
   ]
  },
  {
   "cell_type": "code",
   "execution_count": 41,
   "metadata": {
    "collapsed": false
   },
   "outputs": [
    {
     "data": {
      "text/html": [
       "<div>\n",
       "<table border=\"1\" class=\"dataframe\">\n",
       "  <thead>\n",
       "    <tr style=\"text-align: right;\">\n",
       "      <th></th>\n",
       "      <th>id</th>\n",
       "      <th>date</th>\n",
       "      <th>vals</th>\n",
       "    </tr>\n",
       "  </thead>\n",
       "  <tbody>\n",
       "    <tr>\n",
       "      <th>0</th>\n",
       "      <td>yk73wpz80r</td>\n",
       "      <td>2013-01-01</td>\n",
       "      <td>-0.508638</td>\n",
       "    </tr>\n",
       "    <tr>\n",
       "      <th>1</th>\n",
       "      <td>yk73wpz80r</td>\n",
       "      <td>2013-01-02</td>\n",
       "      <td>-0.215574</td>\n",
       "    </tr>\n",
       "    <tr>\n",
       "      <th>2</th>\n",
       "      <td>yk73wpz80r</td>\n",
       "      <td>2013-01-03</td>\n",
       "      <td>0.124159</td>\n",
       "    </tr>\n",
       "    <tr>\n",
       "      <th>3</th>\n",
       "      <td>yk73wpz80r</td>\n",
       "      <td>2013-01-04</td>\n",
       "      <td>2.391401</td>\n",
       "    </tr>\n",
       "    <tr>\n",
       "      <th>4</th>\n",
       "      <td>yk73wpz80r</td>\n",
       "      <td>2013-01-05</td>\n",
       "      <td>-0.334885</td>\n",
       "    </tr>\n",
       "    <tr>\n",
       "      <th>5</th>\n",
       "      <td>y6rdzb39uf</td>\n",
       "      <td>2013-01-01</td>\n",
       "      <td>0.218966</td>\n",
       "    </tr>\n",
       "  </tbody>\n",
       "</table>\n",
       "</div>"
      ],
      "text/plain": [
       "           id       date      vals\n",
       "0  yk73wpz80r 2013-01-01 -0.508638\n",
       "1  yk73wpz80r 2013-01-02 -0.215574\n",
       "2  yk73wpz80r 2013-01-03  0.124159\n",
       "3  yk73wpz80r 2013-01-04  2.391401\n",
       "4  yk73wpz80r 2013-01-05 -0.334885\n",
       "5  y6rdzb39uf 2013-01-01  0.218966"
      ]
     },
     "execution_count": 41,
     "metadata": {},
     "output_type": "execute_result"
    }
   ],
   "source": [
    "cols = ['id', 'date', 'vals']\n",
    "df = df[cols]\n",
    "df.head(6)"
   ]
  },
  {
   "cell_type": "code",
   "execution_count": 42,
   "metadata": {
    "collapsed": false
   },
   "outputs": [
    {
     "data": {
      "text/plain": [
       "id              object\n",
       "date    datetime64[ns]\n",
       "vals           float64\n",
       "dtype: object"
      ]
     },
     "execution_count": 42,
     "metadata": {},
     "output_type": "execute_result"
    }
   ],
   "source": [
    "df.dtypes"
   ]
  },
  {
   "cell_type": "code",
   "execution_count": 43,
   "metadata": {
    "collapsed": false
   },
   "outputs": [
    {
     "data": {
      "text/html": [
       "<div>\n",
       "<table border=\"1\" class=\"dataframe\">\n",
       "  <thead>\n",
       "    <tr style=\"text-align: right;\">\n",
       "      <th></th>\n",
       "      <th>vals</th>\n",
       "    </tr>\n",
       "  </thead>\n",
       "  <tbody>\n",
       "    <tr>\n",
       "      <th>count</th>\n",
       "      <td>10.000000</td>\n",
       "    </tr>\n",
       "    <tr>\n",
       "      <th>mean</th>\n",
       "      <td>0.483964</td>\n",
       "    </tr>\n",
       "    <tr>\n",
       "      <th>std</th>\n",
       "      <td>0.857674</td>\n",
       "    </tr>\n",
       "    <tr>\n",
       "      <th>min</th>\n",
       "      <td>-0.508638</td>\n",
       "    </tr>\n",
       "    <tr>\n",
       "      <th>25%</th>\n",
       "      <td>-0.130641</td>\n",
       "    </tr>\n",
       "    <tr>\n",
       "      <th>50%</th>\n",
       "      <td>0.381905</td>\n",
       "    </tr>\n",
       "    <tr>\n",
       "      <th>75%</th>\n",
       "      <td>0.793559</td>\n",
       "    </tr>\n",
       "    <tr>\n",
       "      <th>max</th>\n",
       "      <td>2.391401</td>\n",
       "    </tr>\n",
       "  </tbody>\n",
       "</table>\n",
       "</div>"
      ],
      "text/plain": [
       "            vals\n",
       "count  10.000000\n",
       "mean    0.483964\n",
       "std     0.857674\n",
       "min    -0.508638\n",
       "25%    -0.130641\n",
       "50%     0.381905\n",
       "75%     0.793559\n",
       "max     2.391401"
      ]
     },
     "execution_count": 43,
     "metadata": {},
     "output_type": "execute_result"
    }
   ],
   "source": [
    "df.describe()"
   ]
  },
  {
   "cell_type": "code",
   "execution_count": 44,
   "metadata": {
    "collapsed": false
   },
   "outputs": [
    {
     "data": {
      "text/html": [
       "<div>\n",
       "<table border=\"1\" class=\"dataframe\">\n",
       "  <thead>\n",
       "    <tr style=\"text-align: right;\">\n",
       "      <th></th>\n",
       "      <th></th>\n",
       "      <th>vals</th>\n",
       "    </tr>\n",
       "    <tr>\n",
       "      <th>id</th>\n",
       "      <th></th>\n",
       "      <th></th>\n",
       "    </tr>\n",
       "  </thead>\n",
       "  <tbody>\n",
       "    <tr>\n",
       "      <th rowspan=\"8\" valign=\"top\">y6rdzb39uf</th>\n",
       "      <th>count</th>\n",
       "      <td>5.000000</td>\n",
       "    </tr>\n",
       "    <tr>\n",
       "      <th>mean</th>\n",
       "      <td>0.676636</td>\n",
       "    </tr>\n",
       "    <tr>\n",
       "      <th>std</th>\n",
       "      <td>0.361225</td>\n",
       "    </tr>\n",
       "    <tr>\n",
       "      <th>min</th>\n",
       "      <td>0.218966</td>\n",
       "    </tr>\n",
       "    <tr>\n",
       "      <th>25%</th>\n",
       "      <td>0.544843</td>\n",
       "    </tr>\n",
       "    <tr>\n",
       "      <th>50%</th>\n",
       "      <td>0.577582</td>\n",
       "    </tr>\n",
       "    <tr>\n",
       "      <th>75%</th>\n",
       "      <td>0.865551</td>\n",
       "    </tr>\n",
       "    <tr>\n",
       "      <th>max</th>\n",
       "      <td>1.176238</td>\n",
       "    </tr>\n",
       "    <tr>\n",
       "      <th rowspan=\"8\" valign=\"top\">yk73wpz80r</th>\n",
       "      <th>count</th>\n",
       "      <td>5.000000</td>\n",
       "    </tr>\n",
       "    <tr>\n",
       "      <th>mean</th>\n",
       "      <td>0.291293</td>\n",
       "    </tr>\n",
       "    <tr>\n",
       "      <th>std</th>\n",
       "      <td>1.196588</td>\n",
       "    </tr>\n",
       "    <tr>\n",
       "      <th>min</th>\n",
       "      <td>-0.508638</td>\n",
       "    </tr>\n",
       "    <tr>\n",
       "      <th>25%</th>\n",
       "      <td>-0.334885</td>\n",
       "    </tr>\n",
       "    <tr>\n",
       "      <th>50%</th>\n",
       "      <td>-0.215574</td>\n",
       "    </tr>\n",
       "    <tr>\n",
       "      <th>75%</th>\n",
       "      <td>0.124159</td>\n",
       "    </tr>\n",
       "    <tr>\n",
       "      <th>max</th>\n",
       "      <td>2.391401</td>\n",
       "    </tr>\n",
       "  </tbody>\n",
       "</table>\n",
       "</div>"
      ],
      "text/plain": [
       "                      vals\n",
       "id                        \n",
       "y6rdzb39uf count  5.000000\n",
       "           mean   0.676636\n",
       "           std    0.361225\n",
       "           min    0.218966\n",
       "           25%    0.544843\n",
       "           50%    0.577582\n",
       "           75%    0.865551\n",
       "           max    1.176238\n",
       "yk73wpz80r count  5.000000\n",
       "           mean   0.291293\n",
       "           std    1.196588\n",
       "           min   -0.508638\n",
       "           25%   -0.334885\n",
       "           50%   -0.215574\n",
       "           75%    0.124159\n",
       "           max    2.391401"
      ]
     },
     "execution_count": 44,
     "metadata": {},
     "output_type": "execute_result"
    }
   ],
   "source": [
    "df.groupby('id').describe()"
   ]
  },
  {
   "cell_type": "code",
   "execution_count": 45,
   "metadata": {
    "collapsed": false
   },
   "outputs": [
    {
     "data": {
      "text/html": [
       "<div>\n",
       "<table border=\"1\" class=\"dataframe\">\n",
       "  <thead>\n",
       "    <tr style=\"text-align: right;\">\n",
       "      <th></th>\n",
       "      <th>id</th>\n",
       "      <th>date</th>\n",
       "      <th>vals</th>\n",
       "    </tr>\n",
       "  </thead>\n",
       "  <tbody>\n",
       "    <tr>\n",
       "      <th>0</th>\n",
       "      <td>yk73wpz80r</td>\n",
       "      <td>2013-01-01</td>\n",
       "      <td>-0.508638</td>\n",
       "    </tr>\n",
       "    <tr>\n",
       "      <th>5</th>\n",
       "      <td>y6rdzb39uf</td>\n",
       "      <td>2013-01-01</td>\n",
       "      <td>0.218966</td>\n",
       "    </tr>\n",
       "    <tr>\n",
       "      <th>1</th>\n",
       "      <td>yk73wpz80r</td>\n",
       "      <td>2013-01-02</td>\n",
       "      <td>-0.215574</td>\n",
       "    </tr>\n",
       "    <tr>\n",
       "      <th>6</th>\n",
       "      <td>y6rdzb39uf</td>\n",
       "      <td>2013-01-02</td>\n",
       "      <td>0.577582</td>\n",
       "    </tr>\n",
       "    <tr>\n",
       "      <th>2</th>\n",
       "      <td>yk73wpz80r</td>\n",
       "      <td>2013-01-03</td>\n",
       "      <td>0.124159</td>\n",
       "    </tr>\n",
       "    <tr>\n",
       "      <th>7</th>\n",
       "      <td>y6rdzb39uf</td>\n",
       "      <td>2013-01-03</td>\n",
       "      <td>0.865551</td>\n",
       "    </tr>\n",
       "  </tbody>\n",
       "</table>\n",
       "</div>"
      ],
      "text/plain": [
       "           id       date      vals\n",
       "0  yk73wpz80r 2013-01-01 -0.508638\n",
       "5  y6rdzb39uf 2013-01-01  0.218966\n",
       "1  yk73wpz80r 2013-01-02 -0.215574\n",
       "6  y6rdzb39uf 2013-01-02  0.577582\n",
       "2  yk73wpz80r 2013-01-03  0.124159\n",
       "7  y6rdzb39uf 2013-01-03  0.865551"
      ]
     },
     "execution_count": 45,
     "metadata": {},
     "output_type": "execute_result"
    }
   ],
   "source": [
    "df.sort_values(by='date').head(6)"
   ]
  },
  {
   "cell_type": "code",
   "execution_count": 46,
   "metadata": {
    "collapsed": false
   },
   "outputs": [
    {
     "data": {
      "text/html": [
       "<div>\n",
       "<table border=\"1\" class=\"dataframe\">\n",
       "  <thead>\n",
       "    <tr style=\"text-align: right;\">\n",
       "      <th></th>\n",
       "      <th>id</th>\n",
       "      <th>date</th>\n",
       "      <th>vals</th>\n",
       "    </tr>\n",
       "  </thead>\n",
       "  <tbody>\n",
       "    <tr>\n",
       "      <th>5</th>\n",
       "      <td>y6rdzb39uf</td>\n",
       "      <td>2013-01-01</td>\n",
       "      <td>0.218966</td>\n",
       "    </tr>\n",
       "    <tr>\n",
       "      <th>6</th>\n",
       "      <td>y6rdzb39uf</td>\n",
       "      <td>2013-01-02</td>\n",
       "      <td>0.577582</td>\n",
       "    </tr>\n",
       "    <tr>\n",
       "      <th>7</th>\n",
       "      <td>y6rdzb39uf</td>\n",
       "      <td>2013-01-03</td>\n",
       "      <td>0.865551</td>\n",
       "    </tr>\n",
       "    <tr>\n",
       "      <th>8</th>\n",
       "      <td>y6rdzb39uf</td>\n",
       "      <td>2013-01-04</td>\n",
       "      <td>1.176238</td>\n",
       "    </tr>\n",
       "    <tr>\n",
       "      <th>9</th>\n",
       "      <td>y6rdzb39uf</td>\n",
       "      <td>2013-01-05</td>\n",
       "      <td>0.544843</td>\n",
       "    </tr>\n",
       "    <tr>\n",
       "      <th>0</th>\n",
       "      <td>yk73wpz80r</td>\n",
       "      <td>2013-01-01</td>\n",
       "      <td>-0.508638</td>\n",
       "    </tr>\n",
       "    <tr>\n",
       "      <th>1</th>\n",
       "      <td>yk73wpz80r</td>\n",
       "      <td>2013-01-02</td>\n",
       "      <td>-0.215574</td>\n",
       "    </tr>\n",
       "    <tr>\n",
       "      <th>2</th>\n",
       "      <td>yk73wpz80r</td>\n",
       "      <td>2013-01-03</td>\n",
       "      <td>0.124159</td>\n",
       "    </tr>\n",
       "    <tr>\n",
       "      <th>3</th>\n",
       "      <td>yk73wpz80r</td>\n",
       "      <td>2013-01-04</td>\n",
       "      <td>2.391401</td>\n",
       "    </tr>\n",
       "    <tr>\n",
       "      <th>4</th>\n",
       "      <td>yk73wpz80r</td>\n",
       "      <td>2013-01-05</td>\n",
       "      <td>-0.334885</td>\n",
       "    </tr>\n",
       "  </tbody>\n",
       "</table>\n",
       "</div>"
      ],
      "text/plain": [
       "           id       date      vals\n",
       "5  y6rdzb39uf 2013-01-01  0.218966\n",
       "6  y6rdzb39uf 2013-01-02  0.577582\n",
       "7  y6rdzb39uf 2013-01-03  0.865551\n",
       "8  y6rdzb39uf 2013-01-04  1.176238\n",
       "9  y6rdzb39uf 2013-01-05  0.544843\n",
       "0  yk73wpz80r 2013-01-01 -0.508638\n",
       "1  yk73wpz80r 2013-01-02 -0.215574\n",
       "2  yk73wpz80r 2013-01-03  0.124159\n",
       "3  yk73wpz80r 2013-01-04  2.391401\n",
       "4  yk73wpz80r 2013-01-05 -0.334885"
      ]
     },
     "execution_count": 46,
     "metadata": {},
     "output_type": "execute_result"
    }
   ],
   "source": [
    "df.sort_values(by=['id', 'date'])"
   ]
  },
  {
   "cell_type": "code",
   "execution_count": 49,
   "metadata": {
    "collapsed": false
   },
   "outputs": [
    {
     "data": {
      "text/html": [
       "<div>\n",
       "<table border=\"1\" class=\"dataframe\">\n",
       "  <thead>\n",
       "    <tr style=\"text-align: right;\">\n",
       "      <th>super_cool</th>\n",
       "      <th>val_crazy</th>\n",
       "      <th>val_std</th>\n",
       "    </tr>\n",
       "    <tr>\n",
       "      <th>id</th>\n",
       "      <th></th>\n",
       "      <th></th>\n",
       "    </tr>\n",
       "  </thead>\n",
       "  <tbody>\n",
       "    <tr>\n",
       "      <th>y6rdzb39uf</th>\n",
       "      <td>1.333572</td>\n",
       "      <td>0.361225</td>\n",
       "    </tr>\n",
       "    <tr>\n",
       "      <th>yk73wpz80r</th>\n",
       "      <td>0.566303</td>\n",
       "      <td>1.196588</td>\n",
       "    </tr>\n",
       "  </tbody>\n",
       "</table>\n",
       "</div>"
      ],
      "text/plain": [
       "super_cool  val_crazy   val_std\n",
       "id                             \n",
       "y6rdzb39uf   1.333572  0.361225\n",
       "yk73wpz80r   0.566303  1.196588"
      ]
     },
     "execution_count": 49,
     "metadata": {},
     "output_type": "execute_result"
    }
   ],
   "source": [
    "def create_custom_vals(vals):\n",
    "    crazy_computation = (np.sin(vals['vals']) + np.cos(vals['vals'])).mean()\n",
    "    output = {'val_std': vals['vals'].std(), 'val_crazy': crazy_computation}\n",
    "    return pd.Series(output, name='super_cool')\n",
    "\n",
    "df.groupby('id').apply(create_custom_vals)"
   ]
  },
  {
   "cell_type": "code",
   "execution_count": 62,
   "metadata": {
    "collapsed": false
   },
   "outputs": [
    {
     "name": "stdout",
     "output_type": "stream",
     "text": [
      "vals\n",
      "0   -0.508638\n",
      "1   -0.215574\n",
      "2    0.124159\n",
      "3    2.391401\n",
      "4   -0.334885\n",
      "Name: vals, dtype: float64\n",
      "2x2\n",
      "           id       date\n",
      "0  yk73wpz80r 2013-01-01\n",
      "1  yk73wpz80r 2013-01-02\n",
      "dates\n",
      "0   2013-01-01\n",
      "1   2013-01-02\n",
      "2   2013-01-03\n",
      "3   2013-01-04\n",
      "4   2013-01-05\n",
      "Name: date, dtype: datetime64[ns]\n",
      "Last 3 rows\n",
      "           id       date      vals\n",
      "7  y6rdzb39uf 2013-01-03  0.865551\n",
      "8  y6rdzb39uf 2013-01-04  1.176238\n",
      "9  y6rdzb39uf 2013-01-05  0.544843\n",
      "id\n",
      "0    yk73wpz80r\n",
      "1    yk73wpz80r\n",
      "2    yk73wpz80r\n",
      "3    yk73wpz80r\n",
      "4    yk73wpz80r\n",
      "Name: id, dtype: object 0    yk73wpz80r\n",
      "1    yk73wpz80r\n",
      "2    yk73wpz80r\n",
      "3    yk73wpz80r\n",
      "4    yk73wpz80r\n",
      "Name: id, dtype: object\n",
      "2x2 inner\n",
      "        date      vals\n",
      "1 2013-01-02 -0.215574\n",
      "2 2013-01-03  0.124159\n",
      "Every 2 rows\n",
      "           id       date      vals\n",
      "0  yk73wpz80r 2013-01-01 -0.508638\n",
      "2  yk73wpz80r 2013-01-03  0.124159\n",
      "4  yk73wpz80r 2013-01-05 -0.334885\n",
      "6  y6rdzb39uf 2013-01-02  0.577582\n",
      "8  y6rdzb39uf 2013-01-04  1.176238\n"
     ]
    }
   ],
   "source": [
    "# https://stackoverflow.com/questions/31593201/pandas-iloc-vs-ix-vs-loc-explanation\n",
    "print \"vals\\n\", df.vals.head()\n",
    "print \"dates\\n\",  df.iloc[:, 1].head()\n",
    "print \"Last 3 rows\\n\", df.iloc[-3:]\n",
    "print \"Get ids\\n\", df.loc[:, 'id'].head(), df['id'].head()\n",
    "print \"2x2\\n\", df.iloc[:2, :2]\n",
    "print \"2x2 inner\\n\", df.iloc[1:3, 1:3]\n",
    "print \"Slice every 2 rows\\n\", df[::2]"
   ]
  },
  {
   "cell_type": "code",
   "execution_count": 240,
   "metadata": {
    "collapsed": false
   },
   "outputs": [
    {
     "data": {
      "text/plain": [
       "array([<matplotlib.axes._subplots.AxesSubplot object at 0x0000000010D974A8>,\n",
       "       <matplotlib.axes._subplots.AxesSubplot object at 0x0000000010DB13C8>], dtype=object)"
      ]
     },
     "execution_count": 240,
     "metadata": {},
     "output_type": "execute_result"
    },
    {
     "data": {
      "image/png": "[encoded data removed]",
      "text/plain": [
       "<matplotlib.figure.Figure at 0x108dc748>"
      ]
     },
     "metadata": {},
     "output_type": "display_data"
    },
    {
     "data": {
      "image/png": "[encoded data removed]",
      "text/plain": [
       "<matplotlib.figure.Figure at 0x108dceb8>"
      ]
     },
     "metadata": {},
     "output_type": "display_data"
    }
   ],
   "source": [
    "%matplotlib inline\n",
    "\n",
    "df['data'].hist()\n",
    "df.hist(column=\"data\",by=\"id\",bins=30)"
   ]
  },
  {
   "cell_type": "code",
   "execution_count": 238,
   "metadata": {
    "collapsed": false
   },
   "outputs": [
    {
     "data": {
      "text/html": [
       "<script>requirejs.config({paths: { 'plotly': ['https://cdn.plot.ly/plotly-latest.min']},});if(!window.Plotly) {{require(['plotly'],function(plotly) {window.Plotly=plotly;});}}</script>"
      ],
      "text/vnd.plotly.v1+html": [
       "<script>requirejs.config({paths: { 'plotly': ['https://cdn.plot.ly/plotly-latest.min']},});if(!window.Plotly) {{require(['plotly'],function(plotly) {window.Plotly=plotly;});}}</script>"
      ]
     },
     "metadata": {},
     "output_type": "display_data"
    },
    {
     "data": {
      "application/vnd.plotly.v1+json": {
       "data": [
        {
         "type": "histogram",
         "x": [
          -0.1880274564750405,
          -0.3391184083136696,
          -0.6582324668315295,
          -0.3874981241026098,
          -1.60690040464431,
          -1.317088749190357,
          -0.6795965403640497,
          -0.5572852417118376,
          -1.5950328549340131,
          0.8438876017120863
         ],
         "xbins": {
          "end": 2,
          "size": 0.5,
          "start": -2
         }
        }
       ],
       "layout": {}
      },
      "text/html": [
       "<div id=\"1013ca5d-8d4c-41c2-86de-7259a284a00c\" style=\"height: 525px; width: 100%;\" class=\"plotly-graph-div\"></div><script type=\"text/javascript\">require([\"plotly\"], function(Plotly) { window.PLOTLYENV=window.PLOTLYENV || {};window.PLOTLYENV.BASE_URL=\"https://plot.ly\";Plotly.newPlot(\"1013ca5d-8d4c-41c2-86de-7259a284a00c\", [{\"x\": [-0.1880274564750405, -0.3391184083136696, -0.6582324668315295, -0.3874981241026098, -1.60690040464431, -1.317088749190357, -0.6795965403640497, -0.5572852417118376, -1.5950328549340131, 0.8438876017120863], \"type\": \"histogram\", \"xbins\": {\"start\": -2.0, \"end\": 2.0, \"size\": 0.5}}], {}, {\"linkText\": \"Export to plot.ly\", \"showLink\": true})});</script>"
      ],
      "text/vnd.plotly.v1+html": [
       "<div id=\"1013ca5d-8d4c-41c2-86de-7259a284a00c\" style=\"height: 525px; width: 100%;\" class=\"plotly-graph-div\"></div><script type=\"text/javascript\">require([\"plotly\"], function(Plotly) { window.PLOTLYENV=window.PLOTLYENV || {};window.PLOTLYENV.BASE_URL=\"https://plot.ly\";Plotly.newPlot(\"1013ca5d-8d4c-41c2-86de-7259a284a00c\", [{\"x\": [-0.1880274564750405, -0.3391184083136696, -0.6582324668315295, -0.3874981241026098, -1.60690040464431, -1.317088749190357, -0.6795965403640497, -0.5572852417118376, -1.5950328549340131, 0.8438876017120863], \"type\": \"histogram\", \"xbins\": {\"start\": -2.0, \"end\": 2.0, \"size\": 0.5}}], {}, {\"linkText\": \"Export to plot.ly\", \"showLink\": true})});</script>"
      ]
     },
     "metadata": {},
     "output_type": "display_data"
    }
   ],
   "source": [
    "data = [go.Histogram(x=df['data'],     \n",
    "                     xbins=dict(start=-2.0,end=2.0,size=0.5))]\n",
    "py.offline.iplot(data, filename='basic histogram')"
   ]
  }
 ],
 "metadata": {
  "anaconda-cloud": {},
  "kernelspec": {
   "display_name": "Python [conda root]",
   "language": "python",
   "name": "conda-root-py"
  },
  "language_info": {
   "codemirror_mode": {
    "name": "ipython",
    "version": 2
   },
   "file_extension": ".py",
   "mimetype": "text/x-python",
   "name": "python",
   "nbconvert_exporter": "python",
   "pygments_lexer": "ipython2",
   "version": "2.7.12"
  }
 },
 "nbformat": 4,
 "nbformat_minor": 1
}
