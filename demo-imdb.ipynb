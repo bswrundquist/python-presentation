{
 "cells": [
  {
   "cell_type": "code",
   "execution_count": 1,
   "metadata": {},
   "outputs": [
    {
     "name": "stderr",
     "output_type": "stream",
     "text": [
      "Using TensorFlow backend.\n"
     ]
    }
   ],
   "source": [
    "from keras.layers import Embedding\n",
    "\n",
    "# The Embedding layer takes at least two arguments:\n",
    "# the number of possible tokens, here 1000 (1 + maximum word index),\n",
    "# and the dimensionality of the embeddings, here 64.\n",
    "embedding_layer = Embedding(1000, 64)"
   ]
  },
  {
   "cell_type": "code",
   "execution_count": 2,
   "metadata": {},
   "outputs": [
    {
     "name": "stdout",
     "output_type": "stream",
     "text": [
      "Downloading data from https://s3.amazonaws.com/text-datasets/imdb.npz\n",
      "17465344/17464789 [==============================] - 1s 0us/step\n"
     ]
    }
   ],
   "source": [
    "from keras.datasets import imdb\n",
    "from keras import preprocessing\n",
    "\n",
    "# Number of words to consider as features\n",
    "max_features = 10000\n",
    "# Cut texts after this number of words\n",
    "# (among top max_features most common words)\n",
    "maxlen = 20\n",
    "\n",
    "# Load the data as lists of integers.\n",
    "(x_train, y_train), (x_test, y_test) = imdb.load_data(num_words=max_features)"
   ]
  },
  {
   "cell_type": "code",
   "execution_count": 3,
   "metadata": {},
   "outputs": [],
   "source": [
    "# This turns our lists of integers\n",
    "# into a 2D integer tensor of shape `(samples, maxlen)`\n",
    "x_train = preprocessing.sequence.pad_sequences(x_train, maxlen=maxlen)\n",
    "x_test = preprocessing.sequence.pad_sequences(x_test, maxlen=maxlen)"
   ]
  },
  {
   "cell_type": "code",
   "execution_count": 4,
   "metadata": {},
   "outputs": [
    {
     "name": "stdout",
     "output_type": "stream",
     "text": [
      "_________________________________________________________________\n",
      "Layer (type)                 Output Shape              Param #   \n",
      "=================================================================\n",
      "embedding_2 (Embedding)      (None, 20, 8)             80000     \n",
      "_________________________________________________________________\n",
      "flatten_1 (Flatten)          (None, 160)               0         \n",
      "_________________________________________________________________\n",
      "dense_1 (Dense)              (None, 1)                 161       \n",
      "=================================================================\n",
      "Total params: 80,161\n",
      "Trainable params: 80,161\n",
      "Non-trainable params: 0\n",
      "_________________________________________________________________\n",
      "Train on 20000 samples, validate on 5000 samples\n",
      "Epoch 1/10\n",
      "20000/20000 [==============================] - 1s 28us/step - loss: 0.6869 - acc: 0.5810 - val_loss: 0.6736 - val_acc: 0.6674\n",
      "Epoch 2/10\n",
      "20000/20000 [==============================] - 1s 26us/step - loss: 0.6358 - acc: 0.7333 - val_loss: 0.6071 - val_acc: 0.7200\n",
      "Epoch 3/10\n",
      "20000/20000 [==============================] - 1s 26us/step - loss: 0.5545 - acc: 0.7650 - val_loss: 0.5437 - val_acc: 0.7380\n",
      "Epoch 4/10\n",
      "20000/20000 [==============================] - 0s 25us/step - loss: 0.4893 - acc: 0.7857 - val_loss: 0.5063 - val_acc: 0.7534\n",
      "Epoch 5/10\n",
      "20000/20000 [==============================] - 1s 26us/step - loss: 0.4449 - acc: 0.8046 - val_loss: 0.4866 - val_acc: 0.7654\n",
      "Epoch 6/10\n",
      "20000/20000 [==============================] - 1s 25us/step - loss: 0.4133 - acc: 0.8209 - val_loss: 0.4771 - val_acc: 0.7708\n",
      "Epoch 7/10\n",
      "20000/20000 [==============================] - 0s 25us/step - loss: 0.3889 - acc: 0.8337 - val_loss: 0.4735 - val_acc: 0.7702\n",
      "Epoch 8/10\n",
      "20000/20000 [==============================] - 0s 25us/step - loss: 0.3682 - acc: 0.8442 - val_loss: 0.4727 - val_acc: 0.7726\n",
      "Epoch 9/10\n",
      "20000/20000 [==============================] - 0s 25us/step - loss: 0.3501 - acc: 0.8539 - val_loss: 0.4753 - val_acc: 0.7748\n",
      "Epoch 10/10\n",
      "20000/20000 [==============================] - 1s 26us/step - loss: 0.3334 - acc: 0.8624 - val_loss: 0.4765 - val_acc: 0.7698\n"
     ]
    }
   ],
   "source": [
    "from keras.models import Sequential\n",
    "from keras.layers import Flatten, Dense\n",
    "\n",
    "model = Sequential()\n",
    "# We specify the maximum input length to our Embedding layer\n",
    "# so we can later flatten the embedded inputs\n",
    "model.add(Embedding(10000, 8, input_length=maxlen))\n",
    "# After the Embedding layer,\n",
    "# our activations have shape `(samples, maxlen, 8)`.\n",
    "\n",
    "# We flatten the 3D tensor of embeddings\n",
    "# into a 2D tensor of shape `(samples, maxlen * 8)`\n",
    "model.add(Flatten())\n",
    "\n",
    "# We add the classifier on top\n",
    "model.add(Dense(1, activation='sigmoid'))\n",
    "model.compile(optimizer='rmsprop', loss='binary_crossentropy', metrics=['acc'])\n",
    "model.summary()\n",
    "\n",
    "import keras\n",
    "\n",
    "callbacks = [\n",
    "    keras.callbacks.TensorBoard(\n",
    "        # Log files will be written at this location\n",
    "        log_dir='work',\n",
    "        #histogram_freq=1,\n",
    "        # We will record activation histograms every 1 epoch\n",
    "\n",
    "    )\n",
    "]\n",
    "history = model.fit(x_train, y_train,\n",
    "                    epochs=10,\n",
    "                    batch_size=128,\n",
    "                    validation_split=0.2,\n",
    "                    callbacks=callbacks)\n"
   ]
  },
  {
   "cell_type": "code",
   "execution_count": null,
   "metadata": {},
   "outputs": [],
   "source": []
  }
 ],
 "metadata": {
  "kernelspec": {
   "display_name": "Python 3",
   "language": "python",
   "name": "python3"
  },
  "language_info": {
   "codemirror_mode": {
    "name": "ipython",
    "version": 3
   },
   "file_extension": ".py",
   "mimetype": "text/x-python",
   "name": "python",
   "nbconvert_exporter": "python",
   "pygments_lexer": "ipython3",
   "version": "3.6.3"
  }
 },
 "nbformat": 4,
 "nbformat_minor": 2
}
