{
 "cells": [
  {
   "cell_type": "code",
   "execution_count": 1,
   "metadata": {
    "collapsed": true,
    "deletable": true,
    "editable": true
   },
   "outputs": [],
   "source": [
    "import numpy as np\n",
    "import pandas as pd\n",
    "import tensorflow as tf\n",
    "from sklearn import datasets"
   ]
  },
  {
   "cell_type": "code",
   "execution_count": 121,
   "metadata": {
    "collapsed": false
   },
   "outputs": [
    {
     "name": "stdout",
     "output_type": "stream",
     "text": [
      "25\n"
     ]
    }
   ],
   "source": [
    "x1 = tf.Variable(3, name=\"x1\")\n",
    "y1 = tf.Variable(4, name=\"y1\")\n",
    "f = x1*y1 + x1 + 10\n",
    "with tf.Session() as sess:\n",
    "    x1.initializer.run()\n",
    "    y1.initializer.run()\n",
    "    result = f.eval()\n",
    "print result"
   ]
  },
  {
   "cell_type": "code",
   "execution_count": 2,
   "metadata": {
    "collapsed": true,
    "deletable": true,
    "editable": true
   },
   "outputs": [],
   "source": [
    "diabetes = datasets.load_diabetes()\n",
    "X, y = diabetes.data, diabetes.target"
   ]
  },
  {
   "cell_type": "code",
   "execution_count": 115,
   "metadata": {
    "collapsed": false,
    "deletable": true,
    "editable": true
   },
   "outputs": [],
   "source": [
    "boston = datasets.load_boston()\n",
    "\n",
    "data, target = boston.data, boston.target\n",
    "m, n = data.shape\n",
    "design_matrix = np.c_[np.ones((m, 1)), data]\n",
    "\n",
    "X = tf.constant(design_matrix, dtype=tf.float64, name=\"X\")\n",
    "y = tf.constant(target.reshape(-1, 1), dtype=tf.float64, name=\"y\")\n",
    "X_transpose = tf.transpose(X)\n",
    "theta = tf.matmul(tf.matmul(tf.matrix_inverse(tf.matmul(X_transpose, X)), X_transpose), y)\n",
    "\n",
    "with tf.Session() as sess:\n",
    "    theta_vals = theta.eval()\n",
    "tf_theta = theta_vals[theta_vals[:, 0].argsort()]"
   ]
  },
  {
   "cell_type": "code",
   "execution_count": 119,
   "metadata": {
    "collapsed": false,
    "deletable": true,
    "editable": true
   },
   "outputs": [
    {
     "name": "stdout",
     "output_type": "stream",
     "text": [
      "(-17.795758660307452, -17.79575866030896) 1.50635059981e-12\n",
      "(-1.4757587965195165, -1.4757587965198167) 3.00204305859e-13\n",
      "(-0.9534635546900199, -0.9534635546905583) 5.38458166943e-13\n",
      "(-0.5254666329007316, -0.5254666329007893) 5.77315972805e-14\n",
      "(-0.10717055656036965, -0.10717055656035566) -1.39888101103e-14\n",
      "(-0.012329346305273636, -0.01232934630527538) 1.74339709336e-15\n",
      "(0.0007510617033220923, 0.000751061703319067) 3.0253577421e-15\n",
      "(0.00939251272219142, 0.009392512722190105) 1.31492039479e-15\n",
      "(0.0208602395323135, 0.02086023953217235) 1.41150979793e-13\n",
      "(0.046395219529808476, 0.046395219529801954) 6.52256026967e-15\n",
      "(0.3056550383390898, 0.30565503833909946) -9.65894031424e-15\n",
      "(2.688561399318755, 2.6885613993179542) 8.0069284536e-13\n",
      "(3.804752460259593, 3.804752460258008) 1.58495438995e-12\n",
      "(36.49110328033986, 36.491103280363134) -2.32773800235e-11\n"
     ]
    }
   ],
   "source": [
    "from sklearn import linear_model\n",
    "\n",
    "regr = linear_model.LinearRegression()\n",
    "regr.fit(data, target)\n",
    "coef = regr.coef_[regr.coef_.argsort()]\n",
    "sk_theta = np.append(coef, regr.intercept_)\n",
    "\n",
    "for thetas in zip(np.ndarray.tolist(tf_theta[:, 0]), np.ndarray.tolist(sk_theta)):\n",
    "    print thetas, thetas[0] - thetas[1]"
   ]
  },
  {
   "cell_type": "code",
   "execution_count": 72,
   "metadata": {
    "collapsed": false,
    "deletable": true,
    "editable": true
   },
   "outputs": [
    {
     "name": "stdout",
     "output_type": "stream",
     "text": [
      "Successfully downloaded train-images-idx3-ubyte.gz 9912422 bytes.\n",
      "Extracting MNIST_data/train-images-idx3-ubyte.gz\n",
      "Successfully downloaded train-labels-idx1-ubyte.gz 28881 bytes.\n",
      "Extracting MNIST_data/train-labels-idx1-ubyte.gz\n",
      "Successfully downloaded t10k-images-idx3-ubyte.gz 1648877 bytes.\n",
      "Extracting MNIST_data/t10k-images-idx3-ubyte.gz\n",
      "Successfully downloaded t10k-labels-idx1-ubyte.gz 4542 bytes.\n",
      "Extracting MNIST_data/t10k-labels-idx1-ubyte.gz\n"
     ]
    }
   ],
   "source": [
    "from tensorflow.examples.tutorials.mnist import input_data\n",
    "mnist = input_data.read_data_sets(\"MNIST_data/\", one_hot=True)"
   ]
  },
  {
   "cell_type": "code",
   "execution_count": 84,
   "metadata": {
    "collapsed": false,
    "deletable": true,
    "editable": true
   },
   "outputs": [
    {
     "name": "stdout",
     "output_type": "stream",
     "text": [
      "0.9023\n"
     ]
    }
   ],
   "source": [
    "x = tf.placeholder(tf.float32, [None, 784])\n",
    "W = tf.Variable(tf.zeros([784, 10]))\n",
    "b = tf.Variable(tf.zeros([10]))\n",
    "y = tf.nn.softmax(tf.matmul(x, W) + b)\n",
    "y_ = tf.placeholder(tf.float32, [None, 10])\n",
    "cross_entropy = tf.reduce_mean(-tf.reduce_sum(y_ * tf.log(y), reduction_indices=[1]))\n",
    "train_step = tf.train.GradientDescentOptimizer(0.05).minimize(cross_entropy)\n",
    "sess = tf.InteractiveSession()\n",
    "tf.global_variables_initializer().run()\n",
    "for _ in range(1000):\n",
    "  batch_xs, batch_ys = mnist.train.next_batch(100)\n",
    "  sess.run(train_step, feed_dict={x: batch_xs, y_: batch_ys})\n",
    "    \n",
    "correct_prediction = tf.equal(tf.argmax(y,1), tf.argmax(y_,1))\n",
    "accuracy = tf.reduce_mean(tf.cast(correct_prediction, tf.float32))\n",
    "print(sess.run(accuracy, feed_dict={x: mnist.test.images, y_: mnist.test.labels}))\n"
   ]
  }
 ],
 "metadata": {
  "kernelspec": {
   "display_name": "Python 2",
   "language": "python",
   "name": "python2"
  },
  "language_info": {
   "codemirror_mode": {
    "name": "ipython",
    "version": 2
   },
   "file_extension": ".py",
   "mimetype": "text/x-python",
   "name": "python",
   "nbconvert_exporter": "python",
   "pygments_lexer": "ipython2",
   "version": "2.7.11"
  }
 },
 "nbformat": 4,
 "nbformat_minor": 2
}
