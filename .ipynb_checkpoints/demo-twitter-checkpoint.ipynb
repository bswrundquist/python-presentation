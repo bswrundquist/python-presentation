{
 "cells": [
  {
   "cell_type": "code",
   "execution_count": 1,
   "metadata": {},
   "outputs": [],
   "source": [
    "import pandas as pd"
   ]
  },
  {
   "cell_type": "code",
   "execution_count": 17,
   "metadata": {},
   "outputs": [
    {
     "name": "stderr",
     "output_type": "stream",
     "text": [
      "/opt/conda/lib/python3.6/site-packages/ipykernel_launcher.py:1: ParserWarning: Falling back to the 'python' engine because the 'c' engine does not support regex separators (separators > 1 char and different from '\\s+' are interpreted as regex); you can avoid this warning by specifying engine='python'.\n",
      "  \"\"\"Entry point for launching an IPython kernel.\n"
     ]
    }
   ],
   "source": [
    "df = pd.read_csv(\"/data/twitter/supervised/sentiment.csv\", delimiter=\",adsf,asdf\", names=['values'], skiprows=1)"
   ]
  },
  {
   "cell_type": "code",
   "execution_count": 26,
   "metadata": {},
   "outputs": [
    {
     "data": {
      "text/plain": [
       "pandas.core.series.Series"
      ]
     },
     "execution_count": 26,
     "metadata": {},
     "output_type": "execute_result"
    }
   ],
   "source": [
    "type(df['values'].str.split(\",\"))"
   ]
  },
  {
   "cell_type": "code",
   "execution_count": 61,
   "metadata": {},
   "outputs": [],
   "source": [
    "dff = pd.DataFrame(df['values'].str.split(\",\", 3).tolist(), columns=['id', 'sentiment', 'source', 'tweet'])"
   ]
  },
  {
   "cell_type": "code",
   "execution_count": 62,
   "metadata": {},
   "outputs": [
    {
     "data": {
      "text/html": [
       "<div>\n",
       "<table border=\"1\" class=\"dataframe\">\n",
       "  <thead>\n",
       "    <tr style=\"text-align: right;\">\n",
       "      <th></th>\n",
       "      <th></th>\n",
       "      <th>id</th>\n",
       "    </tr>\n",
       "    <tr>\n",
       "      <th>sentiment</th>\n",
       "      <th>source</th>\n",
       "      <th></th>\n",
       "    </tr>\n",
       "  </thead>\n",
       "  <tbody>\n",
       "    <tr>\n",
       "      <th rowspan=\"2\" valign=\"top\">0</th>\n",
       "      <th>Kaggle</th>\n",
       "      <td>620</td>\n",
       "    </tr>\n",
       "    <tr>\n",
       "      <th>Sentiment140</th>\n",
       "      <td>787822</td>\n",
       "    </tr>\n",
       "    <tr>\n",
       "      <th rowspan=\"2\" valign=\"top\">1</th>\n",
       "      <th>Kaggle</th>\n",
       "      <td>729</td>\n",
       "    </tr>\n",
       "    <tr>\n",
       "      <th>Sentiment140</th>\n",
       "      <td>789456</td>\n",
       "    </tr>\n",
       "  </tbody>\n",
       "</table>\n",
       "</div>"
      ],
      "text/plain": [
       "                            id\n",
       "sentiment source              \n",
       "0         Kaggle           620\n",
       "          Sentiment140  787822\n",
       "1         Kaggle           729\n",
       "          Sentiment140  789456"
      ]
     },
     "execution_count": 62,
     "metadata": {},
     "output_type": "execute_result"
    }
   ],
   "source": [
    "dff[['source', 'sentiment', 'id']].groupby(['sentiment', 'source']).count()"
   ]
  },
  {
   "cell_type": "code",
   "execution_count": 63,
   "metadata": {},
   "outputs": [],
   "source": [
    "import numpy as np\n",
    "token_index = {}\n",
    "samples = dff.tweet.tolist()\n",
    "for sample in samples:\n",
    "    # We simply tokenize the samples via the `split` method.\n",
    "    # in real life, we would also strip punctuation and special characters\n",
    "    # from the samples.\n",
    "    for word in sample.split():\n",
    "        if word not in token_index:\n",
    "            # Assign a unique index to each unique word\n",
    "            token_index[word] = len(token_index) + 1\n",
    "            # Note that we don't attribute index 0 to anything.\n",
    "\n",
    "# Next, we vectorize our samples.\n",
    "# We will only consider the first `max_length` words in each sample.\n",
    "max_length = 10"
   ]
  },
  {
   "cell_type": "code",
   "execution_count": 110,
   "metadata": {},
   "outputs": [
    {
     "name": "stdout",
     "output_type": "stream",
     "text": [
      "1450957\n",
      "1578627\n"
     ]
    }
   ],
   "source": [
    "print(max(token_index.values()) + 1)\n",
    "print(len(samples))"
   ]
  },
  {
   "cell_type": "code",
   "execution_count": 60,
   "metadata": {},
   "outputs": [
    {
     "ename": "MemoryError",
     "evalue": "",
     "output_type": "error",
     "traceback": [
      "\u001b[0;31m\u001b[0m",
      "\u001b[0;31mMemoryError\u001b[0mTraceback (most recent call last)",
      "\u001b[0;32m<ipython-input-60-c92901d53453>\u001b[0m in \u001b[0;36m<module>\u001b[0;34m()\u001b[0m\n\u001b[1;32m      1\u001b[0m \u001b[0;31m# This is where we store our results:\u001b[0m\u001b[0;34m\u001b[0m\u001b[0;34m\u001b[0m\u001b[0m\n\u001b[0;32m----> 2\u001b[0;31m \u001b[0mresults\u001b[0m \u001b[0;34m=\u001b[0m \u001b[0mnp\u001b[0m\u001b[0;34m.\u001b[0m\u001b[0mzeros\u001b[0m\u001b[0;34m(\u001b[0m\u001b[0;34m(\u001b[0m\u001b[0mlen\u001b[0m\u001b[0;34m(\u001b[0m\u001b[0msamples\u001b[0m\u001b[0;34m)\u001b[0m\u001b[0;34m,\u001b[0m \u001b[0mmax_length\u001b[0m\u001b[0;34m,\u001b[0m \u001b[0mmax\u001b[0m\u001b[0;34m(\u001b[0m\u001b[0mtoken_index\u001b[0m\u001b[0;34m.\u001b[0m\u001b[0mvalues\u001b[0m\u001b[0;34m(\u001b[0m\u001b[0;34m)\u001b[0m\u001b[0;34m)\u001b[0m \u001b[0;34m+\u001b[0m \u001b[0;36m1\u001b[0m\u001b[0;34m)\u001b[0m\u001b[0;34m)\u001b[0m\u001b[0;34m\u001b[0m\u001b[0m\n\u001b[0m\u001b[1;32m      3\u001b[0m \u001b[0;32mfor\u001b[0m \u001b[0mi\u001b[0m\u001b[0;34m,\u001b[0m \u001b[0msample\u001b[0m \u001b[0;32min\u001b[0m \u001b[0menumerate\u001b[0m\u001b[0;34m(\u001b[0m\u001b[0msamples\u001b[0m\u001b[0;34m)\u001b[0m\u001b[0;34m:\u001b[0m\u001b[0;34m\u001b[0m\u001b[0m\n\u001b[1;32m      4\u001b[0m     \u001b[0;32mfor\u001b[0m \u001b[0mj\u001b[0m\u001b[0;34m,\u001b[0m \u001b[0mword\u001b[0m \u001b[0;32min\u001b[0m \u001b[0mlist\u001b[0m\u001b[0;34m(\u001b[0m\u001b[0menumerate\u001b[0m\u001b[0;34m(\u001b[0m\u001b[0msample\u001b[0m\u001b[0;34m.\u001b[0m\u001b[0msplit\u001b[0m\u001b[0;34m(\u001b[0m\u001b[0;34m)\u001b[0m\u001b[0;34m)\u001b[0m\u001b[0;34m)\u001b[0m\u001b[0;34m[\u001b[0m\u001b[0;34m:\u001b[0m\u001b[0mmax_length\u001b[0m\u001b[0;34m]\u001b[0m\u001b[0;34m:\u001b[0m\u001b[0;34m\u001b[0m\u001b[0m\n\u001b[1;32m      5\u001b[0m         \u001b[0mindex\u001b[0m \u001b[0;34m=\u001b[0m \u001b[0mtoken_index\u001b[0m\u001b[0;34m.\u001b[0m\u001b[0mget\u001b[0m\u001b[0;34m(\u001b[0m\u001b[0mword\u001b[0m\u001b[0;34m)\u001b[0m\u001b[0;34m\u001b[0m\u001b[0m\n",
      "\u001b[0;31mMemoryError\u001b[0m: "
     ]
    }
   ],
   "source": [
    "results = np.zeros((len(samples), max_length, max(token_index.values()) + 1))\n",
    "for i, sample in enumerate(samples):\n",
    "    for j, word in list(enumerate(sample.split()))[:max_length]:\n",
    "        index = token_index.get(word)\n",
    "        results[i, j, index] = 1."
   ]
  },
  {
   "cell_type": "code",
   "execution_count": 90,
   "metadata": {},
   "outputs": [
    {
     "name": "stdout",
     "output_type": "stream",
     "text": [
      "Found 691202 unique tokens.\n",
      "Shape of data tensor: (1578627, 50)\n",
      "Shape of label tensor: (1578627,)\n"
     ]
    }
   ],
   "source": [
    "from keras.preprocessing.text import Tokenizer\n",
    "from keras.preprocessing.sequence import pad_sequences\n",
    "import numpy as np\n",
    "\n",
    "maxlen = 50  # Keep tweets to 50 words or less\n",
    "training_samples = 250  # Train on 250 samples, more likely to cause memory error\n",
    "validation_samples = 10000  # Validation dataset has 10000 samples\n",
    "max_words = 10000  # Consider top 10000 most frequent words\n",
    "tweets = dff.tweet.tolist()\n",
    "sentiment = dff.sentiment.tolist()\n",
    "tokenizer = Tokenizer(num_words=max_words)\n",
    "tokenizer.fit_on_texts(tweets)\n",
    "sequences = tokenizer.texts_to_sequences(tweets)\n",
    "\n",
    "word_index = tokenizer.word_index\n",
    "print('Found %s unique tokens.' % len(word_index))\n",
    "\n",
    "data = pad_sequences(sequences, maxlen=maxlen)\n",
    "\n",
    "labels = np.asarray(sentiment)\n",
    "print('Shape of data tensor:', data.shape)\n",
    "print('Shape of label tensor:', labels.shape)\n",
    "\n",
    "# Split the data into a training set and a validation set\n",
    "# But first, shuffle the data, since we started from data\n",
    "# where sample are ordered (all negative first, then all positive).\n",
    "indices = np.arange(data.shape[0])\n",
    "np.random.shuffle(indices)\n",
    "data = data[indices]\n",
    "labels = labels[indices]\n",
    "\n",
    "x_train = data[:training_samples]\n",
    "y_train = labels[:training_samples]\n",
    "x_val = data[training_samples: training_samples + validation_samples]\n",
    "y_val = labels[training_samples: training_samples + validation_samples]\n"
   ]
  },
  {
   "cell_type": "code",
   "execution_count": 91,
   "metadata": {},
   "outputs": [
    {
     "name": "stdout",
     "output_type": "stream",
     "text": [
      "_________________________________________________________________\n",
      "Layer (type)                 Output Shape              Param #   \n",
      "=================================================================\n",
      "embedding_4 (Embedding)      (None, 50, 64)            640000    \n",
      "_________________________________________________________________\n",
      "flatten_4 (Flatten)          (None, 3200)              0         \n",
      "_________________________________________________________________\n",
      "dense_7 (Dense)              (None, 32)                102432    \n",
      "_________________________________________________________________\n",
      "dense_8 (Dense)              (None, 1)                 33        \n",
      "=================================================================\n",
      "Total params: 742,465\n",
      "Trainable params: 742,465\n",
      "Non-trainable params: 0\n",
      "_________________________________________________________________\n"
     ]
    }
   ],
   "source": [
    "# https://keras.io/layers/embeddings/\n",
    "# http://colah.github.io/posts/2015-08-Understanding-LSTMs/\n",
    "\n",
    "from keras.models import Sequential\n",
    "from keras.layers import Embedding, Flatten, Dense\n",
    "embedding_dim = 64\n",
    "model = Sequential()\n",
    "model.add(Embedding(max_words, embedding_dim, input_length=maxlen))\n",
    "model.add(Flatten())\n",
    "model.add(Dense(32, activation='relu'))\n",
    "model.add(Dense(1, activation='sigmoid'))\n",
    "model.summary()"
   ]
  },
  {
   "cell_type": "code",
   "execution_count": 93,
   "metadata": {},
   "outputs": [
    {
     "name": "stdout",
     "output_type": "stream",
     "text": [
      "Train on 250 samples, validate on 10000 samples\n",
      "Epoch 1/25\n",
      "250/250 [==============================] - 1s 3ms/step - loss: 0.1176 - acc: 0.9840 - val_loss: 0.7983 - val_acc: 0.5310\n",
      "Epoch 2/25\n",
      "250/250 [==============================] - 1s 3ms/step - loss: 0.0787 - acc: 0.9960 - val_loss: 0.7329 - val_acc: 0.5523\n",
      "Epoch 3/25\n",
      "250/250 [==============================] - 1s 3ms/step - loss: 0.0622 - acc: 0.9920 - val_loss: 0.7243 - val_acc: 0.5605\n",
      "Epoch 4/25\n",
      "250/250 [==============================] - 1s 3ms/step - loss: 0.0457 - acc: 0.9960 - val_loss: 0.7514 - val_acc: 0.5543\n",
      "Epoch 5/25\n",
      "250/250 [==============================] - 1s 3ms/step - loss: 0.0353 - acc: 0.9960 - val_loss: 0.7721 - val_acc: 0.5514\n",
      "Epoch 6/25\n",
      "250/250 [==============================] - 1s 3ms/step - loss: 0.0309 - acc: 0.9960 - val_loss: 0.7582 - val_acc: 0.5621\n",
      "Epoch 7/25\n",
      "250/250 [==============================] - 1s 3ms/step - loss: 0.0247 - acc: 0.9920 - val_loss: 0.8344 - val_acc: 0.5418\n",
      "Epoch 8/25\n",
      "250/250 [==============================] - 1s 3ms/step - loss: 0.0221 - acc: 0.9960 - val_loss: 0.8076 - val_acc: 0.5573\n",
      "Epoch 9/25\n",
      "250/250 [==============================] - 1s 3ms/step - loss: 0.0189 - acc: 0.9960 - val_loss: 0.7964 - val_acc: 0.5625\n",
      "Epoch 10/25\n",
      "250/250 [==============================] - 1s 3ms/step - loss: 0.0160 - acc: 0.9960 - val_loss: 0.8714 - val_acc: 0.5473\n",
      "Epoch 11/25\n",
      "250/250 [==============================] - 1s 3ms/step - loss: 0.0160 - acc: 0.9960 - val_loss: 0.8373 - val_acc: 0.5592\n",
      "Epoch 12/25\n",
      "250/250 [==============================] - 1s 3ms/step - loss: 0.0131 - acc: 0.9960 - val_loss: 0.8801 - val_acc: 0.5594\n",
      "Epoch 13/25\n",
      "250/250 [==============================] - 1s 3ms/step - loss: 0.0160 - acc: 0.9920 - val_loss: 0.8623 - val_acc: 0.5596\n",
      "Epoch 14/25\n",
      "250/250 [==============================] - 1s 3ms/step - loss: 0.0109 - acc: 0.9960 - val_loss: 0.8754 - val_acc: 0.5629\n",
      "Epoch 15/25\n",
      "250/250 [==============================] - 1s 3ms/step - loss: 0.0121 - acc: 0.9920 - val_loss: 0.8842 - val_acc: 0.5614\n",
      "Epoch 16/25\n",
      "250/250 [==============================] - 1s 3ms/step - loss: 0.0099 - acc: 0.9960 - val_loss: 0.9563 - val_acc: 0.5568\n",
      "Epoch 17/25\n",
      "250/250 [==============================] - 1s 3ms/step - loss: 0.0114 - acc: 0.9920 - val_loss: 0.9415 - val_acc: 0.5591\n",
      "Epoch 18/25\n",
      "250/250 [==============================] - 1s 3ms/step - loss: 0.0084 - acc: 0.9960 - val_loss: 0.9368 - val_acc: 0.5594\n",
      "Epoch 19/25\n",
      "250/250 [==============================] - 1s 3ms/step - loss: 0.0085 - acc: 0.9920 - val_loss: 1.0574 - val_acc: 0.5529\n",
      "Epoch 20/25\n",
      "250/250 [==============================] - 1s 3ms/step - loss: 0.0113 - acc: 0.9960 - val_loss: 0.9744 - val_acc: 0.5579\n",
      "Epoch 21/25\n",
      "250/250 [==============================] - 1s 3ms/step - loss: 0.0085 - acc: 0.9920 - val_loss: 1.0373 - val_acc: 0.5565\n",
      "Epoch 22/25\n",
      "250/250 [==============================] - 1s 3ms/step - loss: 0.0098 - acc: 0.9920 - val_loss: 1.0365 - val_acc: 0.5562\n",
      "Epoch 23/25\n",
      "250/250 [==============================] - 1s 3ms/step - loss: 0.0103 - acc: 0.9920 - val_loss: 1.0351 - val_acc: 0.5553\n",
      "Epoch 24/25\n",
      "250/250 [==============================] - 1s 3ms/step - loss: 0.0086 - acc: 0.9960 - val_loss: 1.0444 - val_acc: 0.5547\n",
      "Epoch 25/25\n",
      "250/250 [==============================] - 1s 3ms/step - loss: 0.0078 - acc: 0.9960 - val_loss: 1.0984 - val_acc: 0.5565\n"
     ]
    }
   ],
   "source": [
    "model.compile(optimizer='rmsprop',\n",
    "              loss='binary_crossentropy',\n",
    "              metrics=['acc'])\n",
    "history = model.fit(x_train, y_train,\n",
    "                    epochs=25,\n",
    "                    batch_size=32,\n",
    "                    validation_data=(x_val, y_val))\n",
    "model.save_weights('model.h5')"
   ]
  },
  {
   "cell_type": "code",
   "execution_count": 94,
   "metadata": {},
   "outputs": [
    {
     "data": {
      "text/plain": [
       "(1578627, 4)"
      ]
     },
     "execution_count": 94,
     "metadata": {},
     "output_type": "execute_result"
    }
   ],
   "source": [
    "dff.shape"
   ]
  },
  {
   "cell_type": "code",
   "execution_count": 95,
   "metadata": {},
   "outputs": [],
   "source": [
    "import matplotlib\n",
    "import numpy as np\n",
    "import matplotlib.pyplot as plt\n",
    "%matplotlib inline  "
   ]
  },
  {
   "cell_type": "code",
   "execution_count": 96,
   "metadata": {},
   "outputs": [
    {
     "name": "stdout",
     "output_type": "stream",
     "text": [
      "dict_keys(['val_loss', 'val_acc', 'loss', 'acc'])\n"
     ]
    },
    {
     "data": {
      "image/png": "[encoded data removed]",
      "text/plain": [
       "<matplotlib.figure.Figure at 0x7f44f5b10a20>"
      ]
     },
     "metadata": {},
     "output_type": "display_data"
    },
    {
     "data": {
      "image/png": "[encoded data removed]",
      "text/plain": [
       "<matplotlib.figure.Figure at 0x7f450573dc18>"
      ]
     },
     "metadata": {},
     "output_type": "display_data"
    }
   ],
   "source": [
    "print(history.history.keys())\n",
    "#  \"Accuracy\"\n",
    "plt.plot(history.history['acc'])\n",
    "plt.plot(history.history['val_acc'])\n",
    "plt.title('model accuracy')\n",
    "plt.ylabel('accuracy')\n",
    "plt.xlabel('epoch')\n",
    "plt.legend(['train', 'validation'], loc='upper left')\n",
    "plt.show()\n",
    "# \"Loss\"\n",
    "plt.plot(history.history['loss'])\n",
    "plt.plot(history.history['val_loss'])\n",
    "plt.title('model loss')\n",
    "plt.ylabel('loss')\n",
    "plt.xlabel('epoch')\n",
    "plt.legend(['train', 'validation'], loc='upper left')\n",
    "plt.show()"
   ]
  },
  {
   "cell_type": "code",
   "execution_count": 107,
   "metadata": {},
   "outputs": [
    {
     "name": "stdout",
     "output_type": "stream",
     "text": [
      "_________________________________________________________________\n",
      "Layer (type)                 Output Shape              Param #   \n",
      "=================================================================\n",
      "embedding_10 (Embedding)     (None, 50, 64)            640000    \n",
      "_________________________________________________________________\n",
      "dropout_6 (Dropout)          (None, 50, 64)            0         \n",
      "_________________________________________________________________\n",
      "flatten_10 (Flatten)         (None, 3200)              0         \n",
      "_________________________________________________________________\n",
      "dropout_7 (Dropout)          (None, 3200)              0         \n",
      "_________________________________________________________________\n",
      "dense_15 (Dense)             (None, 32)                102432    \n",
      "_________________________________________________________________\n",
      "dropout_8 (Dropout)          (None, 32)                0         \n",
      "_________________________________________________________________\n",
      "dense_16 (Dense)             (None, 1)                 33        \n",
      "=================================================================\n",
      "Total params: 742,465\n",
      "Trainable params: 742,465\n",
      "Non-trainable params: 0\n",
      "_________________________________________________________________\n"
     ]
    }
   ],
   "source": [
    "from keras.models import Sequential\n",
    "from keras.layers import Embedding, Flatten, Dense\n",
    "from keras import regularizers\n",
    "from keras import layers\n",
    "\n",
    "embedding_dim = 64\n",
    "model = Sequential()\n",
    "model.add(Embedding(max_words, embedding_dim, input_length=maxlen))\n",
    "model.add(layers.Dropout(0.5))\n",
    "model.add(Flatten())\n",
    "model.add(layers.Dropout(0.5))\n",
    "model.add(Dense(32, activation='relu'))\n",
    "model.add(layers.Dropout(0.5))\n",
    "model.add(Dense(1, activation='sigmoid'))\n",
    "model.summary()\n",
    "\n",
    "\n"
   ]
  },
  {
   "cell_type": "code",
   "execution_count": 104,
   "metadata": {},
   "outputs": [
    {
     "name": "stdout",
     "output_type": "stream",
     "text": [
      "Train on 250 samples, validate on 10000 samples\n",
      "Epoch 1/10\n",
      "250/250 [==============================] - 1s 5ms/step - loss: 0.6955 - acc: 0.5200 - val_loss: 0.6931 - val_acc: 0.5034\n",
      "Epoch 2/10\n",
      "250/250 [==============================] - 1s 3ms/step - loss: 0.6880 - acc: 0.5120 - val_loss: 0.6951 - val_acc: 0.5032\n",
      "Epoch 3/10\n",
      "250/250 [==============================] - 1s 3ms/step - loss: 0.6896 - acc: 0.5360 - val_loss: 0.6925 - val_acc: 0.5053\n",
      "Epoch 4/10\n",
      "250/250 [==============================] - 1s 3ms/step - loss: 0.6842 - acc: 0.5880 - val_loss: 0.6927 - val_acc: 0.5044\n",
      "Epoch 5/10\n",
      "250/250 [==============================] - 1s 3ms/step - loss: 0.6781 - acc: 0.5880 - val_loss: 0.6950 - val_acc: 0.5032\n",
      "Epoch 6/10\n",
      "250/250 [==============================] - 1s 3ms/step - loss: 0.6723 - acc: 0.5960 - val_loss: 0.6966 - val_acc: 0.5032\n",
      "Epoch 7/10\n",
      "250/250 [==============================] - 1s 3ms/step - loss: 0.6805 - acc: 0.5680 - val_loss: 0.6921 - val_acc: 0.5063\n",
      "Epoch 8/10\n",
      "250/250 [==============================] - 1s 3ms/step - loss: 0.6638 - acc: 0.6360 - val_loss: 0.6923 - val_acc: 0.5058\n",
      "Epoch 9/10\n",
      "250/250 [==============================] - 1s 3ms/step - loss: 0.6505 - acc: 0.6720 - val_loss: 0.6933 - val_acc: 0.5055\n",
      "Epoch 10/10\n",
      "250/250 [==============================] - 1s 3ms/step - loss: 0.6395 - acc: 0.6560 - val_loss: 0.6903 - val_acc: 0.5373\n"
     ]
    }
   ],
   "source": [
    "model.compile(optimizer='rmsprop',\n",
    "              loss='binary_crossentropy',\n",
    "              metrics=['acc'])\n",
    "history = model.fit(x_train, y_train,\n",
    "                    epochs=10,\n",
    "                    batch_size=32,\n",
    "                    validation_data=(x_val, y_val))"
   ]
  },
  {
   "cell_type": "code",
   "execution_count": 105,
   "metadata": {},
   "outputs": [
    {
     "name": "stdout",
     "output_type": "stream",
     "text": [
      "dict_keys(['val_loss', 'val_acc', 'loss', 'acc'])\n"
     ]
    },
    {
     "data": {
      "image/png": "[encoded data removed]",
      "text/plain": [
       "<matplotlib.figure.Figure at 0x7f44f679b710>"
      ]
     },
     "metadata": {},
     "output_type": "display_data"
    },
    {
     "data": {
      "image/png": "[encoded data removed]",
      "text/plain": [
       "<matplotlib.figure.Figure at 0x7f44f67b6eb8>"
      ]
     },
     "metadata": {},
     "output_type": "display_data"
    }
   ],
   "source": [
    "print(history.history.keys())\n",
    "#  \"Accuracy\"\n",
    "plt.plot(history.history['acc'])\n",
    "plt.plot(history.history['val_acc'])\n",
    "plt.title('model accuracy')\n",
    "plt.ylabel('accuracy')\n",
    "plt.xlabel('epoch')\n",
    "plt.legend(['train', 'validation'], loc='upper left')\n",
    "plt.show()\n",
    "# \"Loss\"\n",
    "plt.plot(history.history['loss'])\n",
    "plt.plot(history.history['val_loss'])\n",
    "plt.title('model loss')\n",
    "plt.ylabel('loss')\n",
    "plt.xlabel('epoch')\n",
    "plt.legend(['train', 'validation'], loc='upper left')\n",
    "plt.show()"
   ]
  },
  {
   "cell_type": "code",
   "execution_count": 108,
   "metadata": {},
   "outputs": [
    {
     "name": "stdout",
     "output_type": "stream",
     "text": [
      "Train on 250 samples, validate on 10000 samples\n",
      "Epoch 1/100\n",
      "250/250 [==============================] - 1s 5ms/step - loss: 0.6956 - acc: 0.5080 - val_loss: 0.6940 - val_acc: 0.5031\n",
      "Epoch 2/100\n",
      "250/250 [==============================] - 1s 3ms/step - loss: 0.6894 - acc: 0.5240 - val_loss: 0.6928 - val_acc: 0.5074\n",
      "Epoch 3/100\n",
      "250/250 [==============================] - 1s 3ms/step - loss: 0.6904 - acc: 0.5240 - val_loss: 0.6928 - val_acc: 0.5072\n",
      "Epoch 4/100\n",
      "250/250 [==============================] - 1s 3ms/step - loss: 0.6769 - acc: 0.6000 - val_loss: 0.6927 - val_acc: 0.5074\n",
      "Epoch 5/100\n",
      "250/250 [==============================] - 1s 3ms/step - loss: 0.6743 - acc: 0.6160 - val_loss: 0.6928 - val_acc: 0.5067\n",
      "Epoch 6/100\n",
      "250/250 [==============================] - 1s 3ms/step - loss: 0.6642 - acc: 0.6240 - val_loss: 0.6937 - val_acc: 0.5045\n",
      "Epoch 7/100\n",
      "250/250 [==============================] - 1s 3ms/step - loss: 0.6483 - acc: 0.6840 - val_loss: 0.6920 - val_acc: 0.5165\n",
      "Epoch 8/100\n",
      "250/250 [==============================] - 1s 3ms/step - loss: 0.6400 - acc: 0.6720 - val_loss: 0.6932 - val_acc: 0.5091\n",
      "Epoch 9/100\n",
      "250/250 [==============================] - 1s 3ms/step - loss: 0.6185 - acc: 0.7360 - val_loss: 0.6938 - val_acc: 0.5101\n",
      "Epoch 10/100\n",
      "250/250 [==============================] - 1s 3ms/step - loss: 0.5979 - acc: 0.7760 - val_loss: 0.6941 - val_acc: 0.5111\n",
      "Epoch 11/100\n",
      "250/250 [==============================] - 1s 3ms/step - loss: 0.5975 - acc: 0.7520 - val_loss: 0.6902 - val_acc: 0.5299\n",
      "Epoch 12/100\n",
      "250/250 [==============================] - 1s 3ms/step - loss: 0.5593 - acc: 0.8200 - val_loss: 0.6883 - val_acc: 0.5366\n",
      "Epoch 13/100\n",
      "250/250 [==============================] - 1s 3ms/step - loss: 0.5135 - acc: 0.8480 - val_loss: 0.6973 - val_acc: 0.5164\n",
      "Epoch 14/100\n",
      "250/250 [==============================] - 1s 3ms/step - loss: 0.4995 - acc: 0.8320 - val_loss: 0.6889 - val_acc: 0.5383\n",
      "Epoch 15/100\n",
      "250/250 [==============================] - 1s 3ms/step - loss: 0.4704 - acc: 0.8760 - val_loss: 0.6878 - val_acc: 0.5412\n",
      "Epoch 16/100\n",
      "250/250 [==============================] - 1s 3ms/step - loss: 0.4366 - acc: 0.9000 - val_loss: 0.6875 - val_acc: 0.5404\n",
      "Epoch 17/100\n",
      "250/250 [==============================] - 1s 3ms/step - loss: 0.3906 - acc: 0.9120 - val_loss: 0.6902 - val_acc: 0.5399\n",
      "Epoch 18/100\n",
      "250/250 [==============================] - 1s 3ms/step - loss: 0.3692 - acc: 0.9280 - val_loss: 0.6888 - val_acc: 0.5467\n",
      "Epoch 19/100\n",
      "250/250 [==============================] - 1s 3ms/step - loss: 0.3319 - acc: 0.9480 - val_loss: 0.6878 - val_acc: 0.5461\n",
      "Epoch 20/100\n",
      "250/250 [==============================] - 1s 3ms/step - loss: 0.3143 - acc: 0.9440 - val_loss: 0.6913 - val_acc: 0.5475\n",
      "Epoch 21/100\n",
      "250/250 [==============================] - 1s 3ms/step - loss: 0.2912 - acc: 0.9320 - val_loss: 0.6916 - val_acc: 0.5482\n",
      "Epoch 22/100\n",
      "250/250 [==============================] - 1s 3ms/step - loss: 0.2590 - acc: 0.9480 - val_loss: 0.6943 - val_acc: 0.5483\n",
      "Epoch 23/100\n",
      "250/250 [==============================] - 1s 3ms/step - loss: 0.2121 - acc: 0.9640 - val_loss: 0.6968 - val_acc: 0.5509\n",
      "Epoch 24/100\n",
      "250/250 [==============================] - 1s 3ms/step - loss: 0.1966 - acc: 0.9680 - val_loss: 0.7002 - val_acc: 0.5454\n",
      "Epoch 25/100\n",
      "250/250 [==============================] - 1s 3ms/step - loss: 0.1942 - acc: 0.9560 - val_loss: 0.7074 - val_acc: 0.5486\n",
      "Epoch 26/100\n",
      "250/250 [==============================] - 1s 3ms/step - loss: 0.1816 - acc: 0.9560 - val_loss: 0.7078 - val_acc: 0.5519\n",
      "Epoch 27/100\n",
      "250/250 [==============================] - 1s 3ms/step - loss: 0.1435 - acc: 0.9760 - val_loss: 0.7133 - val_acc: 0.5445\n",
      "Epoch 28/100\n",
      "250/250 [==============================] - 1s 3ms/step - loss: 0.1540 - acc: 0.9600 - val_loss: 0.7202 - val_acc: 0.5500\n",
      "Epoch 29/100\n",
      "250/250 [==============================] - 1s 3ms/step - loss: 0.1198 - acc: 0.9840 - val_loss: 0.7446 - val_acc: 0.5494\n",
      "Epoch 30/100\n",
      "250/250 [==============================] - 1s 3ms/step - loss: 0.1194 - acc: 0.9840 - val_loss: 0.7465 - val_acc: 0.5491\n",
      "Epoch 31/100\n",
      "250/250 [==============================] - 1s 3ms/step - loss: 0.0992 - acc: 0.9760 - val_loss: 0.7383 - val_acc: 0.5535\n",
      "Epoch 32/100\n",
      "250/250 [==============================] - 1s 3ms/step - loss: 0.0919 - acc: 0.9680 - val_loss: 0.7466 - val_acc: 0.5540\n",
      "Epoch 33/100\n",
      "250/250 [==============================] - 1s 3ms/step - loss: 0.0795 - acc: 0.9880 - val_loss: 0.7557 - val_acc: 0.5474\n",
      "Epoch 34/100\n",
      "250/250 [==============================] - 1s 3ms/step - loss: 0.0953 - acc: 0.9720 - val_loss: 0.7598 - val_acc: 0.5533\n",
      "Epoch 35/100\n",
      "250/250 [==============================] - 1s 3ms/step - loss: 0.0500 - acc: 0.9960 - val_loss: 0.7824 - val_acc: 0.5541\n",
      "Epoch 36/100\n",
      "250/250 [==============================] - 1s 3ms/step - loss: 0.0702 - acc: 0.9760 - val_loss: 0.7790 - val_acc: 0.5589\n",
      "Epoch 37/100\n",
      "250/250 [==============================] - 1s 3ms/step - loss: 0.0631 - acc: 0.9920 - val_loss: 0.7857 - val_acc: 0.5546\n",
      "Epoch 38/100\n",
      "250/250 [==============================] - 1s 3ms/step - loss: 0.0607 - acc: 0.9800 - val_loss: 0.7960 - val_acc: 0.5552\n",
      "Epoch 39/100\n",
      "250/250 [==============================] - 1s 3ms/step - loss: 0.0457 - acc: 0.9920 - val_loss: 0.8090 - val_acc: 0.5566\n",
      "Epoch 40/100\n",
      "250/250 [==============================] - 1s 3ms/step - loss: 0.0524 - acc: 0.9920 - val_loss: 0.8231 - val_acc: 0.5583\n",
      "Epoch 41/100\n",
      "250/250 [==============================] - 1s 3ms/step - loss: 0.0340 - acc: 1.0000 - val_loss: 0.8326 - val_acc: 0.5577\n",
      "Epoch 42/100\n",
      "250/250 [==============================] - 1s 3ms/step - loss: 0.0371 - acc: 0.9880 - val_loss: 0.8427 - val_acc: 0.5571\n",
      "Epoch 43/100\n",
      "250/250 [==============================] - 1s 3ms/step - loss: 0.0370 - acc: 0.9840 - val_loss: 0.8504 - val_acc: 0.5548\n",
      "Epoch 44/100\n",
      "250/250 [==============================] - 1s 3ms/step - loss: 0.0389 - acc: 0.9880 - val_loss: 0.8691 - val_acc: 0.5575\n",
      "Epoch 45/100\n",
      "250/250 [==============================] - 1s 3ms/step - loss: 0.0323 - acc: 0.9960 - val_loss: 0.8750 - val_acc: 0.5574\n",
      "Epoch 46/100\n",
      "250/250 [==============================] - 1s 3ms/step - loss: 0.0523 - acc: 0.9840 - val_loss: 0.8830 - val_acc: 0.5598\n",
      "Epoch 47/100\n",
      "250/250 [==============================] - 1s 3ms/step - loss: 0.0289 - acc: 0.9960 - val_loss: 0.8878 - val_acc: 0.5566\n",
      "Epoch 48/100\n",
      "250/250 [==============================] - 1s 3ms/step - loss: 0.0290 - acc: 0.9920 - val_loss: 0.9006 - val_acc: 0.5551\n",
      "Epoch 49/100\n",
      "250/250 [==============================] - 1s 3ms/step - loss: 0.0229 - acc: 0.9960 - val_loss: 0.9203 - val_acc: 0.5591\n",
      "Epoch 50/100\n",
      "250/250 [==============================] - 1s 3ms/step - loss: 0.0306 - acc: 0.9920 - val_loss: 0.9204 - val_acc: 0.5590\n",
      "Epoch 51/100\n",
      "250/250 [==============================] - 1s 3ms/step - loss: 0.0225 - acc: 0.9960 - val_loss: 0.9336 - val_acc: 0.5591\n",
      "Epoch 52/100\n",
      "250/250 [==============================] - 1s 3ms/step - loss: 0.0199 - acc: 0.9920 - val_loss: 0.9441 - val_acc: 0.5576\n",
      "Epoch 53/100\n",
      "250/250 [==============================] - 1s 3ms/step - loss: 0.0288 - acc: 0.9920 - val_loss: 0.9617 - val_acc: 0.5537\n",
      "Epoch 54/100\n",
      "250/250 [==============================] - 1s 3ms/step - loss: 0.0259 - acc: 0.9880 - val_loss: 0.9663 - val_acc: 0.5586\n",
      "Epoch 55/100\n",
      "250/250 [==============================] - 1s 3ms/step - loss: 0.0228 - acc: 0.9920 - val_loss: 0.9808 - val_acc: 0.5597\n",
      "Epoch 56/100\n",
      "250/250 [==============================] - 1s 3ms/step - loss: 0.0148 - acc: 0.9960 - val_loss: 0.9910 - val_acc: 0.5588\n",
      "Epoch 57/100\n",
      "250/250 [==============================] - 1s 3ms/step - loss: 0.0322 - acc: 0.9880 - val_loss: 0.9950 - val_acc: 0.5585\n",
      "Epoch 58/100\n",
      "250/250 [==============================] - 1s 3ms/step - loss: 0.0174 - acc: 0.9920 - val_loss: 1.0044 - val_acc: 0.5594\n",
      "Epoch 59/100\n",
      "250/250 [==============================] - 1s 3ms/step - loss: 0.0235 - acc: 0.9920 - val_loss: 1.0142 - val_acc: 0.5594\n",
      "Epoch 60/100\n",
      "250/250 [==============================] - 1s 3ms/step - loss: 0.0203 - acc: 0.9960 - val_loss: 1.0235 - val_acc: 0.5596\n",
      "Epoch 61/100\n",
      "250/250 [==============================] - 1s 3ms/step - loss: 0.0114 - acc: 1.0000 - val_loss: 1.0408 - val_acc: 0.5607\n"
     ]
    },
    {
     "name": "stdout",
     "output_type": "stream",
     "text": [
      "Epoch 62/100\n",
      "250/250 [==============================] - 1s 3ms/step - loss: 0.0110 - acc: 0.9960 - val_loss: 1.0542 - val_acc: 0.5602\n",
      "Epoch 63/100\n",
      "250/250 [==============================] - 1s 3ms/step - loss: 0.0214 - acc: 0.9880 - val_loss: 1.0729 - val_acc: 0.5619\n",
      "Epoch 64/100\n",
      "250/250 [==============================] - 1s 3ms/step - loss: 0.0095 - acc: 0.9960 - val_loss: 1.0825 - val_acc: 0.5599\n",
      "Epoch 65/100\n",
      "250/250 [==============================] - 1s 3ms/step - loss: 0.0085 - acc: 1.0000 - val_loss: 1.1008 - val_acc: 0.5604\n",
      "Epoch 66/100\n",
      "250/250 [==============================] - 1s 3ms/step - loss: 0.0065 - acc: 0.9960 - val_loss: 1.1170 - val_acc: 0.5602\n",
      "Epoch 67/100\n",
      "250/250 [==============================] - 1s 3ms/step - loss: 0.0125 - acc: 0.9960 - val_loss: 1.1370 - val_acc: 0.5620\n",
      "Epoch 68/100\n",
      "250/250 [==============================] - 1s 3ms/step - loss: 0.0205 - acc: 0.9920 - val_loss: 1.1481 - val_acc: 0.5603\n",
      "Epoch 69/100\n",
      "250/250 [==============================] - 1s 3ms/step - loss: 0.0089 - acc: 0.9960 - val_loss: 1.1631 - val_acc: 0.5595\n",
      "Epoch 70/100\n",
      "250/250 [==============================] - 1s 3ms/step - loss: 0.0087 - acc: 1.0000 - val_loss: 1.1660 - val_acc: 0.5591\n",
      "Epoch 71/100\n",
      "250/250 [==============================] - 1s 3ms/step - loss: 0.0035 - acc: 1.0000 - val_loss: 1.1893 - val_acc: 0.5610\n",
      "Epoch 72/100\n",
      "250/250 [==============================] - 1s 3ms/step - loss: 0.0207 - acc: 0.9920 - val_loss: 1.1882 - val_acc: 0.5617\n",
      "Epoch 73/100\n",
      "250/250 [==============================] - 1s 3ms/step - loss: 0.0141 - acc: 0.9960 - val_loss: 1.1933 - val_acc: 0.5602\n",
      "Epoch 74/100\n",
      "250/250 [==============================] - 1s 3ms/step - loss: 0.0176 - acc: 0.9960 - val_loss: 1.1991 - val_acc: 0.5577\n",
      "Epoch 75/100\n",
      "250/250 [==============================] - 1s 3ms/step - loss: 0.0047 - acc: 1.0000 - val_loss: 1.2147 - val_acc: 0.5564\n",
      "Epoch 76/100\n",
      "250/250 [==============================] - 1s 3ms/step - loss: 0.0043 - acc: 1.0000 - val_loss: 1.2341 - val_acc: 0.5592\n",
      "Epoch 77/100\n",
      "250/250 [==============================] - 1s 3ms/step - loss: 0.0214 - acc: 0.9920 - val_loss: 1.2392 - val_acc: 0.5581\n",
      "Epoch 78/100\n",
      "250/250 [==============================] - 1s 3ms/step - loss: 0.0108 - acc: 0.9920 - val_loss: 1.2577 - val_acc: 0.5581\n",
      "Epoch 79/100\n",
      "250/250 [==============================] - 1s 3ms/step - loss: 0.0078 - acc: 0.9960 - val_loss: 1.2623 - val_acc: 0.5581\n",
      "Epoch 80/100\n",
      "250/250 [==============================] - 1s 3ms/step - loss: 0.0149 - acc: 0.9960 - val_loss: 1.2725 - val_acc: 0.5600\n",
      "Epoch 81/100\n",
      "250/250 [==============================] - 1s 3ms/step - loss: 0.0133 - acc: 0.9960 - val_loss: 1.2857 - val_acc: 0.5606\n",
      "Epoch 82/100\n",
      "250/250 [==============================] - 1s 3ms/step - loss: 0.0189 - acc: 0.9920 - val_loss: 1.2840 - val_acc: 0.5610\n",
      "Epoch 83/100\n",
      "250/250 [==============================] - 1s 3ms/step - loss: 0.0043 - acc: 1.0000 - val_loss: 1.3010 - val_acc: 0.5613\n",
      "Epoch 84/100\n",
      "250/250 [==============================] - 1s 3ms/step - loss: 0.0183 - acc: 0.9920 - val_loss: 1.3047 - val_acc: 0.5606\n",
      "Epoch 85/100\n",
      "250/250 [==============================] - 1s 3ms/step - loss: 0.0114 - acc: 0.9960 - val_loss: 1.3095 - val_acc: 0.5602\n",
      "Epoch 86/100\n",
      "250/250 [==============================] - 1s 3ms/step - loss: 0.0023 - acc: 1.0000 - val_loss: 1.3289 - val_acc: 0.5612\n",
      "Epoch 87/100\n",
      "250/250 [==============================] - 1s 3ms/step - loss: 0.0125 - acc: 0.9920 - val_loss: 1.3356 - val_acc: 0.5598\n",
      "Epoch 88/100\n",
      "250/250 [==============================] - 1s 3ms/step - loss: 0.0058 - acc: 0.9960 - val_loss: 1.3623 - val_acc: 0.5606\n",
      "Epoch 89/100\n",
      "250/250 [==============================] - 1s 3ms/step - loss: 0.0115 - acc: 0.9960 - val_loss: 1.3668 - val_acc: 0.5602\n",
      "Epoch 90/100\n",
      "250/250 [==============================] - 1s 3ms/step - loss: 0.0123 - acc: 0.9920 - val_loss: 1.3738 - val_acc: 0.5604\n",
      "Epoch 91/100\n",
      "250/250 [==============================] - 1s 3ms/step - loss: 0.0053 - acc: 0.9960 - val_loss: 1.3885 - val_acc: 0.5601\n",
      "Epoch 92/100\n",
      "250/250 [==============================] - 1s 3ms/step - loss: 0.0091 - acc: 0.9920 - val_loss: 1.3943 - val_acc: 0.5608\n",
      "Epoch 93/100\n",
      "250/250 [==============================] - 1s 3ms/step - loss: 0.0151 - acc: 0.9960 - val_loss: 1.3892 - val_acc: 0.5595\n",
      "Epoch 94/100\n",
      "250/250 [==============================] - 1s 3ms/step - loss: 0.0056 - acc: 1.0000 - val_loss: 1.4035 - val_acc: 0.5589\n",
      "Epoch 95/100\n",
      "250/250 [==============================] - 1s 3ms/step - loss: 0.0033 - acc: 1.0000 - val_loss: 1.4260 - val_acc: 0.5590\n",
      "Epoch 96/100\n",
      "250/250 [==============================] - 1s 3ms/step - loss: 0.0094 - acc: 0.9960 - val_loss: 1.4258 - val_acc: 0.5574\n",
      "Epoch 97/100\n",
      "250/250 [==============================] - 1s 3ms/step - loss: 0.0104 - acc: 0.9920 - val_loss: 1.4286 - val_acc: 0.5564\n",
      "Epoch 98/100\n",
      "250/250 [==============================] - 1s 3ms/step - loss: 0.0097 - acc: 0.9960 - val_loss: 1.4331 - val_acc: 0.5585\n",
      "Epoch 99/100\n",
      "250/250 [==============================] - 1s 3ms/step - loss: 0.0087 - acc: 0.9960 - val_loss: 1.4461 - val_acc: 0.5559\n",
      "Epoch 100/100\n",
      "250/250 [==============================] - 1s 3ms/step - loss: 0.0118 - acc: 0.9920 - val_loss: 1.4589 - val_acc: 0.5563\n"
     ]
    }
   ],
   "source": [
    "model.compile(optimizer='rmsprop',\n",
    "              loss='binary_crossentropy',\n",
    "              metrics=['acc'])\n",
    "history = model.fit(x_train, y_train,\n",
    "                    epochs=100,print(history.history.keys())\n",
    "#  \"Accuracy\"\n",
    "plt.plot(history.history['acc'])\n",
    "plt.plot(history.history['val_acc'])\n",
    "plt.title('model accuracy')\n",
    "plt.ylabel('accuracy')\n",
    "plt.xlabel('epoch')\n",
    "plt.legend(['train', 'validation'], loc='upper left')\n",
    "plt.show()\n",
    "# \"Loss\"\n",
    "plt.plot(history.history['loss'])\n",
    "plt.plot(history.history['val_loss'])\n",
    "plt.title('model loss')\n",
    "plt.ylabel('loss')\n",
    "plt.xlabel('epoch')\n",
    "plt.legend(['train', 'validation'], loc='upper left')\n",
    "plt.show()\n",
    "                    batch_size=32,\n",
    "                    validation_data=(x_val, y_val))"
   ]
  },
  {
   "cell_type": "code",
   "execution_count": 109,
   "metadata": {},
   "outputs": [
    {
     "name": "stdout",
     "output_type": "stream",
     "text": [
      "dict_keys(['val_loss', 'val_acc', 'loss', 'acc'])\n"
     ]
    },
    {
     "data": {
      "image/png": "[encoded data removed]",
      "text/plain": [
       "<matplotlib.figure.Figure at 0x7f44f5e0a208>"
      ]
     },
     "metadata": {},
     "output_type": "display_data"
    },
    {
     "data": {
      "image/png": "[encoded data removed]",
      "text/plain": [
       "<matplotlib.figure.Figure at 0x7f44f6980ef0>"
      ]
     },
     "metadata": {},
     "output_type": "display_data"
    }
   ],
   "source": [
    "print(history.history.keys())\n",
    "#  \"Accuracy\"\n",
    "plt.plot(history.history['acc'])\n",
    "plt.plot(history.history['val_acc'])\n",
    "plt.title('model accuracy')\n",
    "plt.ylabel('accuracy')\n",
    "plt.xlabel('epoch')\n",
    "plt.legend(['train', 'validation'], loc='upper left')\n",
    "plt.show()\n",
    "# \"Loss\"\n",
    "plt.plot(history.history['loss'])\n",
    "plt.plot(history.history['val_loss'])\n",
    "plt.title('model loss')\n",
    "plt.ylabel('loss')\n",
    "plt.xlabel('epoch')\n",
    "plt.legend(['train', 'validation'], loc='upper left')\n",
    "plt.show()"
   ]
  },
  {
   "cell_type": "code",
   "execution_count": null,
   "metadata": {},
   "outputs": [],
   "source": []
  }
 ],
 "metadata": {
  "kernelspec": {
   "display_name": "Python 3",
   "language": "python",
   "name": "python3"
  },
  "language_info": {
   "codemirror_mode": {
    "name": "ipython",
    "version": 3
   },
   "file_extension": ".py",
   "mimetype": "text/x-python",
   "name": "python",
   "nbconvert_exporter": "python",
   "pygments_lexer": "ipython3",
   "version": "3.6.3"
  }
 },
 "nbformat": 4,
 "nbformat_minor": 2
}
